{
 "cells": [
  {
   "cell_type": "code",
   "execution_count": 3,
   "metadata": {},
   "outputs": [],
   "source": [
    "import eda_prep as ep\n",
    "import os \n",
    "import pandas as pd\n",
    "import matplotlib.pyplot as plt\n",
    "#import seaborn as sns"
   ]
  },
  {
   "cell_type": "markdown",
   "metadata": {},
   "source": [
    "1. how many categories are in each folder\n",
    "2. how many recordings in each category\n",
    "3. Min/Max/Avg per category\n",
    "4. Missing values\n",
    "5. Find outliers\n",
    "   1. per category\n",
    "   2. visualizen\n",
    "\n",
    "Feature Engineering\n",
    "- Peak value\n",
    "- Peak-to-peak value\n",
    "- Amplitude\n",
    "- Energy\n",
    "- Frequency\n",
    "- Peak-to-peak\n",
    "- ARV: Average rectified value\n",
    "- Weighted-ARV: \n",
    "- FFT: Frequency spektrum, different frequency parts (maybe)\n",
    "   \n",
    "Clustering\n",
    "\n",
    "Data Augmentation"
   ]
  },
  {
   "cell_type": "markdown",
   "metadata": {},
   "source": [
    "# Merge to df"
   ]
  },
  {
   "cell_type": "code",
   "execution_count": 4,
   "metadata": {},
   "outputs": [],
   "source": [
    "def merge_geophone_falls(folder_path):\n",
    "    \"\"\"\n",
    "    Merges all 'fall' data from CSV files in the given geophone folder.\n",
    "    \n",
    "    Parameters:\n",
    "    - folder_path (str): Path to the geophone folder containing CSV files.\n",
    "    \n",
    "    Returns:\n",
    "    - pd.DataFrame: Merged DataFrame with labeled columns.\n",
    "    \"\"\"\n",
    "    all_data = []\n",
    "\n",
    "    for filename in os.listdir(folder_path):\n",
    "        if filename.endswith(\".csv\"):\n",
    "            parts = filename.split(\"_\")\n",
    "            \n",
    "            if len(parts) < 5:\n",
    "                print(f\"Skipping file with unexpected format: {filename}\")\n",
    "                continue  # Skip files that don't match expected format\n",
    "            \n",
    "            fall_type = parts[0]  # First part of the filename\n",
    "            fall_binary = parts[1]  # Check for fall keyword\n",
    "            distance = parts[2]  # Third part of the filename\n",
    "            person = parts[3]  # AW, AD, or 0\n",
    "            floor_type = parts[-1].replace(\".csv\", \"\")  # Last part without \".csv\"\n",
    "            \n",
    "            # Load CSV\n",
    "            file_path = os.path.join(folder_path, filename)\n",
    "            df = pd.read_csv(file_path, header=None)\n",
    "            \n",
    "            # Take only the first 500 values\n",
    "            # values = df.iloc[0, :500].tolist() if df.shape[1] >= 500 else df.iloc[0, :].tolist() + [None] * (500 - df.shape[1])\n",
    "            for _, row in df.iterrows():\n",
    "                # Ensure only 500 values are added\n",
    "                values = row[:500].tolist() if len(row) >= 500 else row.tolist() + [None] * (500 - len(row))\n",
    "                all_data.append([fall_type, fall_binary, distance, person, floor_type] + values)\n",
    "\n",
    "    # Create DataFrame\n",
    "    column_names = [\"activity\", \"fall_binary\", \"distance_m\", \"person_binary\", \"floor\"] + [f\"value_{i}\" for i in range(1, 501)]\n",
    "    merged_df = pd.DataFrame(all_data, columns=column_names)\n",
    "\n",
    "    return merged_df\n",
    "\n",
    "# Example usage\n",
    "df_geophone = merge_geophone_falls(\"../geophone\")"
   ]
  },
  {
   "cell_type": "markdown",
   "metadata": {},
   "source": [
    "# Add Weight Column"
   ]
  },
  {
   "cell_type": "code",
   "execution_count": 5,
   "metadata": {},
   "outputs": [],
   "source": [
    "def add_weight_column(df):\n",
    "    \"\"\"\n",
    "    Adds a new column 'weight' to the dataframe based on the person's identity and activity type.\n",
    "\n",
    "    - 'AW' (Anna) -> 60kg\n",
    "    - 'AD' (Adrian/David) -> 75kg\n",
    "    - 'FOB' (Bag) -> 6kg\n",
    "    - 'FOL' (Blackroll) -> 0.2kg\n",
    "\n",
    "    Parameters:\n",
    "    df (pd.DataFrame): Input dataframe containing 'person' and 'activity' columns.\n",
    "\n",
    "    Returns:\n",
    "    pd.DataFrame: Dataframe with the new 'weight' column.\n",
    "    \"\"\"\n",
    "    # Mapping persons to their respective weights\n",
    "    person_weight_map = {'AW': 60, 'AD': 75, '0': 0}\n",
    "\n",
    "    # Insert weight column based on person mapping\n",
    "    df.insert(4, 'weight', df['person_binary'].map(person_weight_map))\n",
    "\n",
    "    # Update weight based on activity type\n",
    "    df['weight'] = df.apply(lambda row: \n",
    "                            6 if row['activity'] == 'FOB' \n",
    "                            else (0.2 if row['activity'] == 'FOL' \n",
    "                                  else row['weight']), axis=1)\n",
    "    \n",
    "    return df\n",
    "\n",
    "# Example usage:\n",
    "df_geophone = add_weight_column(df_geophone)"
   ]
  },
  {
   "cell_type": "markdown",
   "metadata": {},
   "source": [
    "# Map Person Column"
   ]
  },
  {
   "cell_type": "code",
   "execution_count": 6,
   "metadata": {},
   "outputs": [],
   "source": [
    "def map_person_column(df, column_name='person_binary'):\n",
    "    \"\"\"\n",
    "    Maps the 'person' column values to their numerical values.\n",
    "\n",
    "    Parameters:\n",
    "    - df (pd.DataFrame): Input dataframe containing 'person_binary' column.\n",
    "    - column_name (str): Name of the column to be mapped.\n",
    "\n",
    "    Returns:\n",
    "    - pd.DataFrame: Dataframe with the mapped 'person' column.\n",
    "    \"\"\"\n",
    "    df[column_name] = df[column_name].map({'AW': 1, 'AD': 1}).fillna(0).astype(int)\n",
    "    return df\n",
    "\n",
    "# Example usage:\n",
    "df_geophone = map_person_column(df_geophone)"
   ]
  },
  {
   "cell_type": "code",
   "execution_count": 7,
   "metadata": {},
   "outputs": [],
   "source": [
    "df_geophone.to_csv(\"merged_geophone_falls_raw.csv\", index=False)"
   ]
  },
  {
   "cell_type": "markdown",
   "metadata": {},
   "source": [
    "# Missing Values"
   ]
  },
  {
   "cell_type": "code",
   "execution_count": 16,
   "metadata": {},
   "outputs": [
    {
     "data": {
      "text/plain": [
       "np.int64(0)"
      ]
     },
     "execution_count": 16,
     "metadata": {},
     "output_type": "execute_result"
    }
   ],
   "source": [
    "df_geophone.isnull().sum().sum()"
   ]
  },
  {
   "cell_type": "markdown",
   "metadata": {},
   "source": [
    "# Group By Activity"
   ]
  },
  {
   "cell_type": "code",
   "execution_count": 17,
   "metadata": {},
   "outputs": [
    {
     "data": {
      "text/plain": [
       "activity\n",
       "CD      20\n",
       "FCS     60\n",
       "FOB     60\n",
       "FOL     60\n",
       "KD      10\n",
       "MA      45\n",
       "RBS    120\n",
       "S       45\n",
       "SC      60\n",
       "WBS     90\n",
       "dtype: int64"
      ]
     },
     "execution_count": 17,
     "metadata": {},
     "output_type": "execute_result"
    }
   ],
   "source": [
    "# group df_geophone by activity and count\n",
    "df_geophone.groupby('activity').size()"
   ]
  },
  {
   "cell_type": "markdown",
   "metadata": {},
   "source": [
    "# Group By Fall Binary"
   ]
  },
  {
   "cell_type": "code",
   "execution_count": 10,
   "metadata": {},
   "outputs": [
    {
     "data": {
      "text/plain": [
       "fall_binary\n",
       "0    510\n",
       "1     60\n",
       "dtype: int64"
      ]
     },
     "execution_count": 10,
     "metadata": {},
     "output_type": "execute_result"
    }
   ],
   "source": [
    "df_geophone.groupby('fall_binary').size()"
   ]
  },
  {
   "cell_type": "markdown",
   "metadata": {},
   "source": [
    "# Add Feature Columns"
   ]
  },
  {
   "cell_type": "code",
   "execution_count": 11,
   "metadata": {},
   "outputs": [
    {
     "data": {
      "text/html": [
       "<div>\n",
       "<style scoped>\n",
       "    .dataframe tbody tr th:only-of-type {\n",
       "        vertical-align: middle;\n",
       "    }\n",
       "\n",
       "    .dataframe tbody tr th {\n",
       "        vertical-align: top;\n",
       "    }\n",
       "\n",
       "    .dataframe thead th {\n",
       "        text-align: right;\n",
       "    }\n",
       "</style>\n",
       "<table border=\"1\" class=\"dataframe\">\n",
       "  <thead>\n",
       "    <tr style=\"text-align: right;\">\n",
       "      <th></th>\n",
       "      <th>activity</th>\n",
       "      <th>fall_binary</th>\n",
       "      <th>distance_m</th>\n",
       "      <th>person_binary</th>\n",
       "      <th>weight</th>\n",
       "      <th>floor</th>\n",
       "      <th>value_1</th>\n",
       "      <th>value_2</th>\n",
       "      <th>value_3</th>\n",
       "      <th>value_4</th>\n",
       "      <th>...</th>\n",
       "      <th>value_499</th>\n",
       "      <th>value_500</th>\n",
       "      <th>max</th>\n",
       "      <th>min</th>\n",
       "      <th>mean</th>\n",
       "      <th>std</th>\n",
       "      <th>median</th>\n",
       "      <th>peak</th>\n",
       "      <th>p2p</th>\n",
       "      <th>energy</th>\n",
       "    </tr>\n",
       "  </thead>\n",
       "  <tbody>\n",
       "    <tr>\n",
       "      <th>0</th>\n",
       "      <td>FCS</td>\n",
       "      <td>1</td>\n",
       "      <td>1</td>\n",
       "      <td>1</td>\n",
       "      <td>75.0</td>\n",
       "      <td>H</td>\n",
       "      <td>59</td>\n",
       "      <td>-38</td>\n",
       "      <td>10</td>\n",
       "      <td>43</td>\n",
       "      <td>...</td>\n",
       "      <td>-12</td>\n",
       "      <td>-6</td>\n",
       "      <td>3335</td>\n",
       "      <td>-2904</td>\n",
       "      <td>-12.574</td>\n",
       "      <td>332.233428</td>\n",
       "      <td>0.0</td>\n",
       "      <td>3335</td>\n",
       "      <td>6239</td>\n",
       "      <td>30.015</td>\n",
       "    </tr>\n",
       "    <tr>\n",
       "      <th>1</th>\n",
       "      <td>FCS</td>\n",
       "      <td>1</td>\n",
       "      <td>1</td>\n",
       "      <td>1</td>\n",
       "      <td>75.0</td>\n",
       "      <td>H</td>\n",
       "      <td>104</td>\n",
       "      <td>-49</td>\n",
       "      <td>137</td>\n",
       "      <td>-46</td>\n",
       "      <td>...</td>\n",
       "      <td>-4</td>\n",
       "      <td>-17</td>\n",
       "      <td>1794</td>\n",
       "      <td>-5425</td>\n",
       "      <td>-15.622</td>\n",
       "      <td>332.036962</td>\n",
       "      <td>-1.0</td>\n",
       "      <td>5425</td>\n",
       "      <td>7219</td>\n",
       "      <td>48.825</td>\n",
       "    </tr>\n",
       "    <tr>\n",
       "      <th>2</th>\n",
       "      <td>FCS</td>\n",
       "      <td>1</td>\n",
       "      <td>1</td>\n",
       "      <td>1</td>\n",
       "      <td>75.0</td>\n",
       "      <td>H</td>\n",
       "      <td>-11</td>\n",
       "      <td>48</td>\n",
       "      <td>-13</td>\n",
       "      <td>8</td>\n",
       "      <td>...</td>\n",
       "      <td>63</td>\n",
       "      <td>76</td>\n",
       "      <td>8664</td>\n",
       "      <td>-4533</td>\n",
       "      <td>22.256</td>\n",
       "      <td>556.031918</td>\n",
       "      <td>2.0</td>\n",
       "      <td>8664</td>\n",
       "      <td>13197</td>\n",
       "      <td>77.976</td>\n",
       "    </tr>\n",
       "    <tr>\n",
       "      <th>3</th>\n",
       "      <td>FCS</td>\n",
       "      <td>1</td>\n",
       "      <td>1</td>\n",
       "      <td>1</td>\n",
       "      <td>75.0</td>\n",
       "      <td>H</td>\n",
       "      <td>16</td>\n",
       "      <td>-11</td>\n",
       "      <td>22</td>\n",
       "      <td>4</td>\n",
       "      <td>...</td>\n",
       "      <td>4</td>\n",
       "      <td>-9</td>\n",
       "      <td>8603</td>\n",
       "      <td>-1911</td>\n",
       "      <td>19.398</td>\n",
       "      <td>467.826539</td>\n",
       "      <td>0.0</td>\n",
       "      <td>8603</td>\n",
       "      <td>10514</td>\n",
       "      <td>77.427</td>\n",
       "    </tr>\n",
       "    <tr>\n",
       "      <th>4</th>\n",
       "      <td>FCS</td>\n",
       "      <td>1</td>\n",
       "      <td>1</td>\n",
       "      <td>1</td>\n",
       "      <td>75.0</td>\n",
       "      <td>H</td>\n",
       "      <td>5</td>\n",
       "      <td>-11</td>\n",
       "      <td>-4</td>\n",
       "      <td>2</td>\n",
       "      <td>...</td>\n",
       "      <td>-11</td>\n",
       "      <td>-11</td>\n",
       "      <td>6241</td>\n",
       "      <td>-13943</td>\n",
       "      <td>-18.060</td>\n",
       "      <td>782.252039</td>\n",
       "      <td>1.0</td>\n",
       "      <td>13943</td>\n",
       "      <td>20184</td>\n",
       "      <td>125.487</td>\n",
       "    </tr>\n",
       "  </tbody>\n",
       "</table>\n",
       "<p>5 rows × 514 columns</p>\n",
       "</div>"
      ],
      "text/plain": [
       "  activity fall_binary distance_m  person_binary  weight floor  value_1  \\\n",
       "0      FCS           1          1              1    75.0     H       59   \n",
       "1      FCS           1          1              1    75.0     H      104   \n",
       "2      FCS           1          1              1    75.0     H      -11   \n",
       "3      FCS           1          1              1    75.0     H       16   \n",
       "4      FCS           1          1              1    75.0     H        5   \n",
       "\n",
       "   value_2  value_3  value_4  ...  value_499  value_500   max    min    mean  \\\n",
       "0      -38       10       43  ...        -12         -6  3335  -2904 -12.574   \n",
       "1      -49      137      -46  ...         -4        -17  1794  -5425 -15.622   \n",
       "2       48      -13        8  ...         63         76  8664  -4533  22.256   \n",
       "3      -11       22        4  ...          4         -9  8603  -1911  19.398   \n",
       "4      -11       -4        2  ...        -11        -11  6241 -13943 -18.060   \n",
       "\n",
       "          std  median   peak    p2p   energy  \n",
       "0  332.233428     0.0   3335   6239   30.015  \n",
       "1  332.036962    -1.0   5425   7219   48.825  \n",
       "2  556.031918     2.0   8664  13197   77.976  \n",
       "3  467.826539     0.0   8603  10514   77.427  \n",
       "4  782.252039     1.0  13943  20184  125.487  \n",
       "\n",
       "[5 rows x 514 columns]"
      ]
     },
     "execution_count": 11,
     "metadata": {},
     "output_type": "execute_result"
    }
   ],
   "source": [
    "def add_feature_columns(df,sampling_interval=4.5/500):\n",
    "    \"\"\"\n",
    "    Adds features of signal data for each row.\n",
    "\n",
    "    Parameters:\n",
    "    - df (pd.DataFrame): The DataFrame containing signal data.\n",
    "\n",
    "    Returns:\n",
    "    - pd.DataFrame: The DataFrame with the new features.\n",
    "    \"\"\"\n",
    "    # Signal data starts from column index 6\n",
    "    signal_columns = df.columns[6:]\n",
    "\n",
    "    # Compute values\n",
    "    df['max'] = df[signal_columns].max(axis=1)\n",
    "    df['min'] = df[signal_columns].min(axis=1)\n",
    "    df['mean'] = df[signal_columns].mean(axis=1)\n",
    "    df['std'] = df[signal_columns].std(axis=1)\n",
    "    df['median'] = df[signal_columns].median(axis=1)\n",
    "    df['peak'] = df[signal_columns].abs().max(axis=1)\n",
    "    df['p2p'] = df['max'] - df['min']\n",
    "    df['energy'] = df['peak'] * sampling_interval # Compute energy using numerical integration (Riemann sum approximation)\n",
    "\n",
    "    return df\n",
    "\n",
    "# Example usage:\n",
    "df_geophone = add_feature_columns(df_geophone)\n",
    "df_geophone.head()"
   ]
  },
  {
   "cell_type": "markdown",
   "metadata": {},
   "source": [
    "# Features by Activity"
   ]
  },
  {
   "cell_type": "code",
   "execution_count": null,
   "metadata": {},
   "outputs": [],
   "source": []
  },
  {
   "cell_type": "markdown",
   "metadata": {},
   "source": [
    "# Get Features"
   ]
  },
  {
   "cell_type": "code",
   "execution_count": 12,
   "metadata": {},
   "outputs": [
    {
     "name": "stdout",
     "output_type": "stream",
     "text": [
      "            recording       mean          std      min      max  median  \\\n",
      "0    FCS_1_1_1_75.0_H   8.007233   496.218150  -2904.0   6239.0     0.0   \n",
      "1    FCS_1_1_1_75.0_H   3.083150   578.097510  -5425.0   7219.0    -1.0   \n",
      "2    FCS_1_1_1_75.0_H  74.366661   989.958696  -4533.0  13197.0     2.0   \n",
      "3    FCS_1_1_1_75.0_H  71.009157   853.445499  -1911.0  10514.0     0.0   \n",
      "4    FCS_1_1_1_75.0_H  35.995431  1499.926702 -13943.0  20184.0     1.0   \n",
      "..                ...        ...          ...      ...      ...     ...   \n",
      "565   FOB_0_1_0_6.0_H   9.818275   172.975644   -909.0   2295.0     0.0   \n",
      "566   FOB_0_1_0_6.0_H  -4.050815   540.441294  -5766.0   6304.0    -0.5   \n",
      "567   FOB_0_1_0_6.0_H   0.813869    28.165156   -219.0    301.0     0.0   \n",
      "568   FOB_0_1_0_6.0_H  35.839606   567.292133  -1626.0   7388.0     0.0   \n",
      "569   FOB_0_1_0_6.0_H   9.889884   153.832023   -927.0   2084.0     1.0   \n",
      "\n",
      "       range  \n",
      "0     9143.0  \n",
      "1    12644.0  \n",
      "2    17730.0  \n",
      "3    12425.0  \n",
      "4    34127.0  \n",
      "..       ...  \n",
      "565   3204.0  \n",
      "566  12070.0  \n",
      "567    520.0  \n",
      "568   9014.0  \n",
      "569   3011.0  \n",
      "\n",
      "[570 rows x 7 columns]\n",
      "value_1            59\n",
      "value_2           -38\n",
      "value_3            10\n",
      "value_4            43\n",
      "value_5           -50\n",
      "              ...    \n",
      "std        332.233428\n",
      "median            0.0\n",
      "peak             3335\n",
      "p2p              6239\n",
      "energy         30.015\n",
      "Name: 0, Length: 508, dtype: object\n"
     ]
    }
   ],
   "source": [
    "def get_features(df: pd.DataFrame, groupby_col: str = 'activity'):\n",
    "    \"\"\"\n",
    "    Extracts features from the given DataFrame.\n",
    "\n",
    "    Parameters:\n",
    "    - df (pd.DataFrame): DataFrame containing the data.\n",
    "    - groupby_col (str): Column to group by.\n",
    "\n",
    "    Returns:\n",
    "    - pd.DataFrame: DataFrame with extracted features.\n",
    "    \"\"\"\n",
    "    return_df = pd.DataFrame()\n",
    "    # Extract features\n",
    "    return_df[\"recording\"] = df.iloc[:, :6].apply(lambda row: '_'.join(row.values.astype(str)), axis=1)\n",
    "    return_df[\"mean\"] = df.iloc[:, 6:].mean(axis=1)\n",
    "    return_df[\"std\"] = df.iloc[:, 6:].std(axis=1)\n",
    "    return_df[\"min\"] = df.iloc[:, 6:].min(axis=1)\n",
    "    return_df[\"max\"] = df.iloc[:, 6:].max(axis=1)\n",
    "    return_df[\"median\"] = df.iloc[:, 6:].median(axis=1)\n",
    "    return_df[\"range\"] = return_df[\"max\"] - return_df[\"min\"]\n",
    "\n",
    "    return return_df\n",
    "\n",
    "df_geophone_features = get_features(df_geophone)\n",
    "\n",
    "print(df_geophone_features)\n",
    "\n",
    "print(df_geophone.iloc[0, 6:])"
   ]
  },
  {
   "cell_type": "markdown",
   "metadata": {},
   "source": [
    "# Scatterplot"
   ]
  },
  {
   "cell_type": "code",
   "execution_count": 13,
   "metadata": {},
   "outputs": [],
   "source": [
    "def plot_scatter(df, labels = False):\n",
    "    \"\"\"\n",
    "    Creates a scatter plot with mean on the x-axis, range on the y-axis,\n",
    "    and colors based on the recording category. Adds tooltips for each point.\n",
    "    \n",
    "    Parameters:\n",
    "    - df (pd.DataFrame): DataFrame containing 'mean', 'range', and 'recording' columns.\n",
    "    \"\"\"\n",
    "    plt.figure(figsize=(10, 6))\n",
    "    scatter = sns.scatterplot(data=df, x=\"mean\", y=\"range\", hue=\"recording\", palette=\"tab10\", alpha=0.8, edgecolor=\"black\")\n",
    "    \n",
    "    # Labels and title\n",
    "    plt.xlabel(\"std\")\n",
    "    plt.ylabel(\"Range\")\n",
    "    plt.title(\"Scatter Plot of Mean vs Range Colored by Recording\")\n",
    "    \n",
    "    # Add annotations\n",
    "    if labels:\n",
    "        for i in range(df.shape[0]):\n",
    "            plt.annotate(df['recording'][i], (df['std'][i], df['range'][i]), fontsize=8, alpha=0.7)\n",
    "    \n",
    "    # Legend adjustments\n",
    "    plt.legend(title=\"Recording\", bbox_to_anchor=(1.05, 1), loc=\"upper left\")\n",
    "    \n",
    "    plt.show()\n"
   ]
  },
  {
   "cell_type": "code",
   "execution_count": 14,
   "metadata": {},
   "outputs": [
    {
     "ename": "NameError",
     "evalue": "name 'sns' is not defined",
     "output_type": "error",
     "traceback": [
      "\u001b[0;31m---------------------------------------------------------------------------\u001b[0m",
      "\u001b[0;31mNameError\u001b[0m                                 Traceback (most recent call last)",
      "\u001b[1;32m/Users/annawalter/Library/Mobile Documents/com~apple~CloudDocs/Documents/Studium/Master/Data Science/4. Semester/Master Thesis/master/eda_prep/eda_prep.ipynb Cell 22\u001b[0m line \u001b[0;36m1\n\u001b[0;32m----> <a href='vscode-notebook-cell:/Users/annawalter/Library/Mobile%20Documents/com~apple~CloudDocs/Documents/Studium/Master/Data%20Science/4.%20Semester/Master%20Thesis/master/eda_prep/eda_prep.ipynb#X56sZmlsZQ%3D%3D?line=0'>1</a>\u001b[0m plot_scatter(df_geophone_features, labels\u001b[39m=\u001b[39;49m\u001b[39mTrue\u001b[39;49;00m)\n",
      "\u001b[1;32m/Users/annawalter/Library/Mobile Documents/com~apple~CloudDocs/Documents/Studium/Master/Data Science/4. Semester/Master Thesis/master/eda_prep/eda_prep.ipynb Cell 22\u001b[0m line \u001b[0;36m1\n\u001b[1;32m      <a href='vscode-notebook-cell:/Users/annawalter/Library/Mobile%20Documents/com~apple~CloudDocs/Documents/Studium/Master/Data%20Science/4.%20Semester/Master%20Thesis/master/eda_prep/eda_prep.ipynb#X56sZmlsZQ%3D%3D?line=1'>2</a>\u001b[0m \u001b[39m\u001b[39m\u001b[39m\"\"\"\u001b[39;00m\n\u001b[1;32m      <a href='vscode-notebook-cell:/Users/annawalter/Library/Mobile%20Documents/com~apple~CloudDocs/Documents/Studium/Master/Data%20Science/4.%20Semester/Master%20Thesis/master/eda_prep/eda_prep.ipynb#X56sZmlsZQ%3D%3D?line=2'>3</a>\u001b[0m \u001b[39mCreates a scatter plot with mean on the x-axis, range on the y-axis,\u001b[39;00m\n\u001b[1;32m      <a href='vscode-notebook-cell:/Users/annawalter/Library/Mobile%20Documents/com~apple~CloudDocs/Documents/Studium/Master/Data%20Science/4.%20Semester/Master%20Thesis/master/eda_prep/eda_prep.ipynb#X56sZmlsZQ%3D%3D?line=3'>4</a>\u001b[0m \u001b[39mand colors based on the recording category. Adds tooltips for each point.\u001b[39;00m\n\u001b[0;32m   (...)\u001b[0m\n\u001b[1;32m      <a href='vscode-notebook-cell:/Users/annawalter/Library/Mobile%20Documents/com~apple~CloudDocs/Documents/Studium/Master/Data%20Science/4.%20Semester/Master%20Thesis/master/eda_prep/eda_prep.ipynb#X56sZmlsZQ%3D%3D?line=6'>7</a>\u001b[0m \u001b[39m- df (pd.DataFrame): DataFrame containing 'mean', 'range', and 'recording' columns.\u001b[39;00m\n\u001b[1;32m      <a href='vscode-notebook-cell:/Users/annawalter/Library/Mobile%20Documents/com~apple~CloudDocs/Documents/Studium/Master/Data%20Science/4.%20Semester/Master%20Thesis/master/eda_prep/eda_prep.ipynb#X56sZmlsZQ%3D%3D?line=7'>8</a>\u001b[0m \u001b[39m\"\"\"\u001b[39;00m\n\u001b[1;32m      <a href='vscode-notebook-cell:/Users/annawalter/Library/Mobile%20Documents/com~apple~CloudDocs/Documents/Studium/Master/Data%20Science/4.%20Semester/Master%20Thesis/master/eda_prep/eda_prep.ipynb#X56sZmlsZQ%3D%3D?line=8'>9</a>\u001b[0m plt\u001b[39m.\u001b[39mfigure(figsize\u001b[39m=\u001b[39m(\u001b[39m10\u001b[39m, \u001b[39m6\u001b[39m))\n\u001b[0;32m---> <a href='vscode-notebook-cell:/Users/annawalter/Library/Mobile%20Documents/com~apple~CloudDocs/Documents/Studium/Master/Data%20Science/4.%20Semester/Master%20Thesis/master/eda_prep/eda_prep.ipynb#X56sZmlsZQ%3D%3D?line=9'>10</a>\u001b[0m scatter \u001b[39m=\u001b[39m sns\u001b[39m.\u001b[39mscatterplot(data\u001b[39m=\u001b[39mdf, x\u001b[39m=\u001b[39m\u001b[39m\"\u001b[39m\u001b[39mmean\u001b[39m\u001b[39m\"\u001b[39m, y\u001b[39m=\u001b[39m\u001b[39m\"\u001b[39m\u001b[39mrange\u001b[39m\u001b[39m\"\u001b[39m, hue\u001b[39m=\u001b[39m\u001b[39m\"\u001b[39m\u001b[39mrecording\u001b[39m\u001b[39m\"\u001b[39m, palette\u001b[39m=\u001b[39m\u001b[39m\"\u001b[39m\u001b[39mtab10\u001b[39m\u001b[39m\"\u001b[39m, alpha\u001b[39m=\u001b[39m\u001b[39m0.8\u001b[39m, edgecolor\u001b[39m=\u001b[39m\u001b[39m\"\u001b[39m\u001b[39mblack\u001b[39m\u001b[39m\"\u001b[39m)\n\u001b[1;32m     <a href='vscode-notebook-cell:/Users/annawalter/Library/Mobile%20Documents/com~apple~CloudDocs/Documents/Studium/Master/Data%20Science/4.%20Semester/Master%20Thesis/master/eda_prep/eda_prep.ipynb#X56sZmlsZQ%3D%3D?line=11'>12</a>\u001b[0m \u001b[39m# Labels and title\u001b[39;00m\n\u001b[1;32m     <a href='vscode-notebook-cell:/Users/annawalter/Library/Mobile%20Documents/com~apple~CloudDocs/Documents/Studium/Master/Data%20Science/4.%20Semester/Master%20Thesis/master/eda_prep/eda_prep.ipynb#X56sZmlsZQ%3D%3D?line=12'>13</a>\u001b[0m plt\u001b[39m.\u001b[39mxlabel(\u001b[39m\"\u001b[39m\u001b[39mstd\u001b[39m\u001b[39m\"\u001b[39m)\n",
      "\u001b[0;31mNameError\u001b[0m: name 'sns' is not defined"
     ]
    },
    {
     "data": {
      "text/plain": [
       "<Figure size 1000x600 with 0 Axes>"
      ]
     },
     "metadata": {},
     "output_type": "display_data"
    }
   ],
   "source": [
    "plot_scatter(df_geophone_features, labels=True)"
   ]
  }
 ],
 "metadata": {
  "kernelspec": {
   "display_name": "venv",
   "language": "python",
   "name": "python3"
  },
  "language_info": {
   "codemirror_mode": {
    "name": "ipython",
    "version": 3
   },
   "file_extension": ".py",
   "mimetype": "text/x-python",
   "name": "python",
   "nbconvert_exporter": "python",
   "pygments_lexer": "ipython3",
   "version": "3.11.3"
  }
 },
 "nbformat": 4,
 "nbformat_minor": 2
}
