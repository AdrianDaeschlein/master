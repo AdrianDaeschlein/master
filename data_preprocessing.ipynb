{
 "cells": [
  {
   "cell_type": "code",
   "execution_count": 16,
   "metadata": {},
   "outputs": [],
   "source": [
    "import eda_prep as ep\n",
    "import os \n",
    "import numpy as np\n",
    "import pandas as pd\n",
    "import matplotlib.pyplot as plt\n",
    "import seaborn as sns"
   ]
  },
  {
   "cell_type": "markdown",
   "metadata": {},
   "source": [
    "| Feature Name       | Description |\n",
    "|--------------------|-------------|\n",
    "| **MPU_falls** | Raw MPU sensory data with Meta variables added |\n",
    "| **MPU_features** | MPU feature extracted data with Meta variables |\n",
    "| **MPU_falls_demean** | MPU sensory data after substracting 9.44 with Meta variables added |\n",
    "| **MPU_demean_features** | MPU feature extracted data after substracting 9.44 with Meta variables added |\n",
    "\n",
    "* No dataleakage as 9.44 is average of STILL recordings"
   ]
  },
  {
   "cell_type": "code",
   "execution_count": 2,
   "metadata": {},
   "outputs": [
    {
     "name": "stdout",
     "output_type": "stream",
     "text": [
      "Average value of the dataset: 9.44\n"
     ]
    }
   ],
   "source": [
    "# Load file S_0_0_0_H in folder MPU6050 with pd.read_csv\n",
    "\n",
    "# Load MPU6050 data\n",
    "path = os.path.join(os.getcwd(), 'MPU6050')\n",
    "file = 'S_0_0_0_H.csv'\n",
    "\n",
    "df = pd.read_csv(os.path.join(path, file))\n",
    "\n",
    "# Print average value over whole dataset (columns and rows)\n",
    "print('Average value of the dataset:', df.mean().mean().round(2))"
   ]
  },
  {
   "cell_type": "code",
   "execution_count": 25,
   "metadata": {},
   "outputs": [],
   "source": [
    "def add_features(df):\n",
    "    \"\"\"\n",
    "    Adds features of signal data for each row.\n",
    "\n",
    "    Parameters:\n",
    "    - df (pd.DataFrame): The DataFrame containing signal data.\n",
    "    - sampling_interval (float): The time interval between each sample.\n",
    "\n",
    "    Returns:\n",
    "    - pd.DataFrame: The DataFrame with the new features.\n",
    "    \"\"\"\n",
    "    # Signal data starts from column index 6\n",
    "    signal_columns = df.columns[5:]\n",
    "\n",
    "    # Sampling interval (in seconds)\n",
    "    sampling_interval=4.5/500\n",
    "\n",
    "    # Compute values\n",
    "    df['max'] = df[signal_columns].max(axis=1) # Compute max value\n",
    "    df['min'] = df[signal_columns].min(axis=1) # Compute min value\n",
    "    df['mean'] = df[signal_columns].mean(axis=1) # Compute mean value\n",
    "    df['std'] = df[signal_columns].std(axis=1) # Compute standard deviation\n",
    "    df['median'] = df[signal_columns].median(axis=1) # Compute median value\n",
    "    df['peak'] = df[signal_columns].abs().max(axis=1) # Compute peak value\n",
    "    df['p2p'] = df['max'] - df['min'] # Compute peak-to-peak value (range)\n",
    "    df['energy'] = df['peak'] * sampling_interval # Compute energy using numerical integration (Riemann sum approximation)\n",
    "    df['rms'] = df['std'] / (2 ** 0.5) # Compute root mean square\n",
    "    df['crest'] = df['peak'] / df['rms'] # Compute crest factor\n",
    "    df['shape'] = df['peak'] / df['mean'] # Compute shape factor\n",
    "    df['impulse'] = df['peak'] * sampling_interval / df['mean'] # Compute impulse factor\n",
    "    df['margin'] = df['peak'] / (df['mean'] + 1e-10) # Compute margin factor\n",
    "\n",
    "    return df"
   ]
  },
  {
   "cell_type": "code",
   "execution_count": 26,
   "metadata": {},
   "outputs": [],
   "source": [
    "def normalize(df):\n",
    "    \"\"\"\n",
    "    Normalizes the features of the signal data.\n",
    "\n",
    "    Parameters:\n",
    "    - df (pd.DataFrame): The DataFrame containing signal data.\n",
    "\n",
    "    Returns:\n",
    "    - pd.DataFrame: The DataFrame with the normalized features.\n",
    "    \"\"\"\n",
    "    # Signal data starts from column index 6\n",
    "    signal_columns = df.columns[5:]\n",
    "\n",
    "    # Normalize signal data\n",
    "    df[signal_columns] = (df[signal_columns] - df[signal_columns].mean()) / df[signal_columns].std()\n",
    "\n",
    "    return df"
   ]
  },
  {
   "cell_type": "code",
   "execution_count": 27,
   "metadata": {},
   "outputs": [],
   "source": [
    "# Import the csv MPU_falls.csv in folder datasets\n",
    "df = pd.read_csv('datasets/geophone.csv')\n",
    "\n",
    "df = add_features(df)\n",
    "\n",
    "# delete all column that start with value\n",
    "df = df.loc[:, ~df.columns.str.startswith('value')]\n",
    "\n",
    "# Save the new dataset\n",
    "df.to_csv('datasets/geophone_features.csv', index=False)"
   ]
  },
  {
   "cell_type": "code",
   "execution_count": 28,
   "metadata": {},
   "outputs": [],
   "source": [
    "# Import the csv MPU_falls.csv in folder datasets\n",
    "df = pd.read_csv('datasets/geophone.csv')\n",
    "\n",
    "df = normalize(df)\n",
    "\n",
    "# Save the new dataset\n",
    "df.to_csv('datasets/geophone_normalized.csv', index=False)"
   ]
  },
  {
   "cell_type": "code",
   "execution_count": null,
   "metadata": {},
   "outputs": [
    {
     "name": "stdout",
     "output_type": "stream",
     "text": [
      "  activity  fall_binary  distance_m person_binary floor  value_1  value_2  \\\n",
      "0      FCS            1           1            AD     H    -0.01     0.00   \n",
      "1      FCS            1           1            AD     H    -0.01     0.01   \n",
      "2      FCS            1           1            AD     H     0.00     0.00   \n",
      "3      FCS            1           1            AD     H    -0.02     0.01   \n",
      "4      FCS            1           1            AD     H     0.00    -0.01   \n",
      "\n",
      "   value_3  value_4  value_5  ...  value_491  value_492  value_493  value_494  \\\n",
      "0    -0.02    -0.01    -0.02  ...      -0.03      -0.02      -0.02      -0.02   \n",
      "1     0.00     0.00     0.01  ...      -0.01      -0.01      -0.02       0.00   \n",
      "2     0.02     0.01    -0.01  ...      -0.05      -0.02      -0.03      -0.02   \n",
      "3    -0.03    -0.01    -0.01  ...      -0.01      -0.05      -0.04      -0.03   \n",
      "4    -0.03    -0.03    -0.03  ...      -0.03      -0.02      -0.02      -0.03   \n",
      "\n",
      "   value_495  value_496  value_497  value_498  value_499  value_500  \n",
      "0      -0.01      -0.02      -0.02      -0.03       0.00      -0.01  \n",
      "1       0.03      -0.03      -0.02       0.00       0.01      -0.01  \n",
      "2      -0.03      -0.02       0.00       0.00      -0.02      -0.02  \n",
      "3      -0.01      -0.01      -0.02      -0.02      -0.02      -0.01  \n",
      "4       0.01       0.00      -0.01       0.02       0.00      -0.01  \n",
      "\n",
      "[5 rows x 505 columns]\n"
     ]
    }
   ],
   "source": [
    "# Import the csv MPU_falls.csv in folder datasets\n",
    "df = pd.read_csv('datasets/MPU_falls.csv')\n",
    "\n",
    "# From each column that starts with value, substract 9.44\n",
    "df.loc[:, df.columns.str.startswith\n",
    "('value')] = df.loc[:, df.columns.str.startswith('value')].sub(9.44)\n",
    "\n",
    "# Save the new dataset\n",
    "df.to_csv('datasets/MPU_falls_demean.csv', index=False)"
   ]
  },
  {
   "cell_type": "code",
   "execution_count": 21,
   "metadata": {},
   "outputs": [
    {
     "data": {
      "image/png": "[encoded data removed]",
      "text/plain": [
       "<Figure size 640x480 with 1 Axes>"
      ]
     },
     "metadata": {},
     "output_type": "display_data"
    }
   ],
   "source": [
    "df_values = df.loc[:, df.columns.str.startswith('value')]\n",
    "\n",
    "# plot the first row\n",
    "plt.plot(df_values.iloc[0])\n",
    "plt.title('First row of the dataset')\n",
    "plt.xlabel('Sample')\n",
    "plt.ylabel('Value')\n",
    "plt.show()"
   ]
  },
  {
   "cell_type": "code",
   "execution_count": 29,
   "metadata": {},
   "outputs": [],
   "source": [
    "# PCA components analysis for feature dataset\n",
    "from sklearn.decomposition import PCA\n",
    "\n",
    "# Load the feature dataset\n",
    "df = pd.read_csv('datasets/geophone_features.csv')\n",
    "\n",
    "# feature columns max,min,mean,std,median,peak,p2p,energy,rms,crest,shape,impulse,margin\n",
    "X = df[['max', 'min', 'mean', 'std', 'median', 'peak', 'p2p', 'energy', 'rms', 'crest', 'shape', 'impulse', 'margin']]\n",
    "y = df['fall_binary']\n",
    "\n",
    "# Perform PCA\n",
    "pca = PCA(n_components=3)\n",
    "\n",
    "# Fit and transform the data\n",
    "X_pca = pca.fit_transform(X)\n",
    "\n",
    "# Create a DataFrame for the PCA components\n",
    "df_pca = pd.DataFrame(data=X_pca, columns=['PC1', 'PC2', 'PC3'])\n",
    "\n",
    "# Add PCA components to the original DataFrame and remove all value.. columns\n",
    "df = pd.concat([df, df_pca], axis=1)\n",
    "df = df.loc[:, ~df.columns.str.startswith('value')]\n",
    "\n",
    "# Save the new dataset\n",
    "df.to_csv('datasets/geophone_features_pca.csv', index=False)\n"
   ]
  }
 ],
 "metadata": {
  "kernelspec": {
   "display_name": ".venv",
   "language": "python",
   "name": "python3"
  },
  "language_info": {
   "codemirror_mode": {
    "name": "ipython",
    "version": 3
   },
   "file_extension": ".py",
   "mimetype": "text/x-python",
   "name": "python",
   "nbconvert_exporter": "python",
   "pygments_lexer": "ipython3",
   "version": "3.10.16"
  }
 },
 "nbformat": 4,
 "nbformat_minor": 2
}
