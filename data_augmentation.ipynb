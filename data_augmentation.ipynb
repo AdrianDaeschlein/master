{
 "cells": [
  {
   "cell_type": "code",
   "execution_count": 166,
   "metadata": {},
   "outputs": [],
   "source": [
    "import os\n",
    "import pandas as pd\n",
    "import numpy as np\n"
   ]
  },
  {
   "cell_type": "code",
   "execution_count": 167,
   "metadata": {},
   "outputs": [
    {
     "name": "stdout",
     "output_type": "stream",
     "text": [
      "Files in the data folder:\n",
      "['FALL_1.csv', 'FALL_2.csv', 'STUMBLE_1.csv', 'WALK_1.csv', 'WALK_2.csv', 'SITTING_1.csv', 'ACTIVITY_1.csv']\n",
      "0: FALL_1.csv\n",
      "1: FALL_2.csv\n",
      "2: STUMBLE_1.csv\n",
      "3: WALK_1.csv\n",
      "4: WALK_2.csv\n",
      "5: SITTING_1.csv\n",
      "6: ACTIVITY_1.csv\n"
     ]
    }
   ],
   "source": [
    "# --- Step 1: Define the file path ---\n",
    "# Folder where the CSV(s) are stored\n",
    "data_folder = 'data_collection'\n",
    "\n",
    "# List all files in the data folder\n",
    "files = os.listdir(data_folder)\n",
    "print(\"Files in the data folder:\")\n",
    "print(files)\n",
    "\n",
    "# Input (1 all or zero) whether all or a specific file should be processed\n",
    "file_info = input(\"For all files, press 1, for a specific file, press 0: \")\n",
    "\n",
    "if file_info == '0':\n",
    "    # Print all files in the data folder in a numbered list, integer will be used to select the file\n",
    "    for i, f in enumerate(files):\n",
    "        print(f\"{i}: {f}\")\n",
    "\n",
    "    # Select the file to be processed\n",
    "    file_index = int(input(\"Select the file to be processed: \"))\n",
    "\n",
    "    file_name = files[file_index]\n",
    "\n",
    "elif file_info == '1':\n",
    "    file_name = 'all'"
   ]
  },
  {
   "cell_type": "code",
   "execution_count": 168,
   "metadata": {},
   "outputs": [],
   "source": [
    "# Load data from the selected file(s)\n",
    "\n",
    "if file_name == 'all':\n",
    "    # For loop over file names, save df as the file name without the extension\n",
    "    # Each file its own dataframe\n",
    "\n",
    "    # Create an empty dictionary to store the dataframes\n",
    "    dataframes = {}\n",
    "\n",
    "    for file in files:\n",
    "        # Load the data from the file\n",
    "        data = pd.read_csv(f\"{data_folder}/{file}\", header=None)\n",
    "\n",
    "        # Store the data in the dictionary\n",
    "        dataframes[file] = data\n",
    "\n",
    "else:\n",
    "    # Load the data from the selected file\n",
    "    data = pd.read_csv(f\"{data_folder}/{file_name}\")\n",
    "\n",
    "    # Store the data in the dictionary\n",
    "    dataframes = {file_name: data}"
   ]
  },
  {
   "cell_type": "code",
   "execution_count": 169,
   "metadata": {},
   "outputs": [
    {
     "name": "stdout",
     "output_type": "stream",
     "text": [
      "Number of dataframes in the dictionary:\n",
      "1\n"
     ]
    }
   ],
   "source": [
    "# Print dictionary status\n",
    "print(\"Number of dataframes in the dictionary:\")\n",
    "print(len(dataframes))"
   ]
  },
  {
   "cell_type": "code",
   "execution_count": 170,
   "metadata": {},
   "outputs": [],
   "source": [
    "# --- Step 4: Augment the data ---\n",
    "def augment_row(row, scale):\n",
    "    \"\"\"Scales each value's difference from the row average by 'scale' and then re-centers.\"\"\"\n",
    "    avg = row.mean()\n",
    "    return (row - avg) * scale + avg\n",
    "\n",
    "# Define function to augment the data\n",
    "def augment_cut(row, steps):\n",
    "    \"\"\"Augments the data by cutting the first steps elements and appending steps average values.\n",
    "    If steps are negative, it deletes the end steps and inserts averages at the beginning.\"\"\"\n",
    "\n",
    "    if steps >= 0:\n",
    "        # Cut the first 'steps' elements\n",
    "        cut = row[steps:]\n",
    "\n",
    "        # Calculate the average of the first 'steps' elements\n",
    "        avg = row[:steps].mean()\n",
    "\n",
    "        # Append the average to the cut data\n",
    "        return np.append(cut, np.repeat(avg, steps))\n",
    "    else:\n",
    "        # Cut the last 'steps' elements\n",
    "        cut = row[:steps]\n",
    "\n",
    "        # Calculate the average of the last 'steps' elements\n",
    "        avg = row[steps:].mean()\n",
    "\n",
    "        # Prepend the average to the cut data\n",
    "        return np.append(np.repeat(avg, -steps), cut)\n",
    "\n"
   ]
  },
  {
   "cell_type": "code",
   "execution_count": 171,
   "metadata": {},
   "outputs": [
    {
     "name": "stderr",
     "output_type": "stream",
     "text": [
      "/var/folders/6c/p1v3x7qs52vb1vs0sj7k6r4r0000gn/T/ipykernel_59219/2103503343.py:45: FutureWarning: Series.__getitem__ treating keys as positions is deprecated. In a future version, integer keys will always be treated as labels (consistent with DataFrame behavior). To access a value by position, use `ser.iloc[pos]`\n",
      "  row[i] += noise\n",
      "/var/folders/6c/p1v3x7qs52vb1vs0sj7k6r4r0000gn/T/ipykernel_59219/2103503343.py:45: FutureWarning: Series.__setitem__ treating keys as positions is deprecated. In a future version, integer keys will always be treated as labels (consistent with DataFrame behavior). To set a value by position, use `ser.iloc[pos] = value`\n",
      "  row[i] += noise\n"
     ]
    }
   ],
   "source": [
    "augment_info = input(\"Which augment do you want (Scale S / Time Cut C: \")\n",
    "\n",
    "if augment_info == 'S':\n",
    "    # Augment all dataframes in the dictionary\n",
    "\n",
    "    # The scaling factor adjusts the \"distance\" from the row average.\n",
    "    # For example, entering 1.1 will increase each deviation by 10%:\n",
    "    #   if avg = 100 and x = 110 then (110 - 100) * 1.1 + 100 = 11 + 100 = 111.\n",
    "\n",
    "    scale = float(input(\"Enter augmentation scaling factor (e.g., 1.1 for 10% upscale, 0.9 for 10% downscale): \"))\n",
    "\n",
    "    append = \"_scale_\" + str(scale)\n",
    "\n",
    "    for key in dataframes:\n",
    "        # Get the dataframe from the dictionary\n",
    "        df = dataframes[key]\n",
    "\n",
    "        # Apply the augmentation to all rows in the dataframe\n",
    "        for i in range(len(df)):\n",
    "            df.iloc[i] = augment_row(df.iloc[i], scale)\n",
    "\n",
    "elif augment_info == 'C':\n",
    "\n",
    "    # Input how many steps the time roll should be, always such that if 10, the first 10 are moved to the end\n",
    "    time_cut = int(input(\"How many steps should the time cut be? \"))\n",
    "\n",
    "    append = \"_roll_\" + str(time_cut)\n",
    "\n",
    "\n",
    "    for key in dataframes:\n",
    "        # Get the dataframe from the dictionary\n",
    "        df = dataframes[key]\n",
    "\n",
    "        # Apply the augmentation to all rows in the dataframe\n",
    "        for i in range(len(df)):\n",
    "            df.iloc[i] = augment_cut(df.iloc[i], time_cut)"
   ]
  },
  {
   "cell_type": "code",
   "execution_count": 172,
   "metadata": {},
   "outputs": [],
   "source": [
    "# Save all dataframes in the dictionary to new CSV files, same name with '_10%scale' appended\n",
    "# the 10% scale is the augmentation factor (i.e. it changes the name dynamically)\n",
    "\n",
    "for key in dataframes:\n",
    "    # Get the dataframe from the dictionary\n",
    "    df = dataframes[key]\n",
    "\n",
    "    # Round to 2 decimal places\n",
    "    df = df.round(2)\n",
    "    \n",
    "    # Save the dataframe to a new CSV file\n",
    "    df.to_csv(f\"{data_folder}/{key[:-4]}{append}.csv\", index=False, header=None)"
   ]
  },
  {
   "cell_type": "code",
   "execution_count": 173,
   "metadata": {},
   "outputs": [
    {
     "data": {
      "image/png": "[encoded data removed]",
      "text/plain": [
       "<Figure size 640x480 with 1 Axes>"
      ]
     },
     "metadata": {},
     "output_type": "display_data"
    }
   ],
   "source": [
    "# Plot the first row of the first dataframe if \n",
    "\n",
    "\n",
    "import matplotlib.pyplot as plt\n",
    "\n",
    "if file_name == 'all':\n",
    "    file_name = files[0]\n",
    "    \n",
    "plt.plot(dataframes[file_name].iloc[2])\n",
    "\n",
    "plt.show()"
   ]
  }
 ],
 "metadata": {
  "kernelspec": {
   "display_name": ".venv",
   "language": "python",
   "name": "python3"
  },
  "language_info": {
   "codemirror_mode": {
    "name": "ipython",
    "version": 3
   },
   "file_extension": ".py",
   "mimetype": "text/x-python",
   "name": "python",
   "nbconvert_exporter": "python",
   "pygments_lexer": "ipython3",
   "version": "3.9.6"
  }
 },
 "nbformat": 4,
 "nbformat_minor": 2
}
