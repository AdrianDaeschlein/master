{
 "cells": [
  {
   "cell_type": "code",
   "execution_count": 11,
   "metadata": {},
   "outputs": [],
   "source": [
    "import eda as eda\n",
    "import os \n",
    "import pandas as pd"
   ]
  },
  {
   "cell_type": "markdown",
   "metadata": {},
   "source": [
    "1. how many categories are in each folder\n",
    "2. how many recordings in each category\n",
    "3. Min/Max/Avg per category\n",
    "4. Missing values\n",
    "5. Find outliers\n",
    "   1. per category\n",
    "   2. visualizen\n",
    "6. Feature Engineering\n",
    "   1. Amplitude\n",
    "   2. Energy\n",
    "   3. Frequency\n",
    "   4. Peak-to-peak\n",
    "   5. ARV: Average rectified value\n",
    "   6. Weighted-ARV: \n",
    "   (7. FFT: Frequency spektrum, different frequency parts)\n",
    "7. Clustering"
   ]
  },
  {
   "cell_type": "markdown",
   "metadata": {},
   "source": [
    "# Merge to df"
   ]
  },
  {
   "cell_type": "code",
   "execution_count": 12,
   "metadata": {},
   "outputs": [],
   "source": [
    "def merge_geophone_falls(folder_path):\n",
    "    \"\"\"\n",
    "    Merges all 'fall' data from CSV files in the given geophone folder.\n",
    "    \n",
    "    Parameters:\n",
    "    - folder_path (str): Path to the geophone folder containing CSV files.\n",
    "    \n",
    "    Returns:\n",
    "    - pd.DataFrame: Merged DataFrame with labeled columns.\n",
    "    \"\"\"\n",
    "    all_data = []\n",
    "\n",
    "    for filename in os.listdir(folder_path):\n",
    "        if filename.endswith(\".csv\"):\n",
    "            parts = filename.split(\"_\")\n",
    "            \n",
    "            if len(parts) < 5:\n",
    "                print(f\"Skipping file with unexpected format: {filename}\")\n",
    "                continue  # Skip files that don't match expected format\n",
    "            \n",
    "            fall_type = parts[0]  # First part of the filename\n",
    "            fall_binary = parts[1]  # Check for fall keyword\n",
    "            distance = parts[2]  # Third part of the filename\n",
    "            person = parts[3]  # AW, AD, or 0\n",
    "            floor_type = parts[-1].replace(\".csv\", \"\")  # Last part without \".csv\"\n",
    "            \n",
    "            # Load CSV\n",
    "            file_path = os.path.join(folder_path, filename)\n",
    "            df = pd.read_csv(file_path, header=None)\n",
    "            \n",
    "            # Take only the first 500 values\n",
    "            # values = df.iloc[0, :500].tolist() if df.shape[1] >= 500 else df.iloc[0, :].tolist() + [None] * (500 - df.shape[1])\n",
    "            for _, row in df.iterrows():\n",
    "                # Ensure only 500 values are added\n",
    "                values = row[:500].tolist() if len(row) >= 500 else row.tolist() + [None] * (500 - len(row))\n",
    "                all_data.append([fall_type, fall_binary, distance, person, floor_type] + values)\n",
    "\n",
    "    # Create DataFrame\n",
    "    column_names = [\"activity\", \"fall_binary\", \"distance_m\", \"person\", \"floor\"] + [f\"value_{i}\" for i in range(1, 501)]\n",
    "    merged_df = pd.DataFrame(all_data, columns=column_names)\n",
    "\n",
    "    return merged_df\n",
    "\n",
    "# Example Usage\n",
    "df_geophone = merge_geophone_falls(\"../geophone\")\n",
    "df_geophone.to_csv(\"merged_geophone_falls.csv\", index=False)\n"
   ]
  },
  {
   "cell_type": "code",
   "execution_count": null,
   "metadata": {},
   "outputs": [],
   "source": [
    "# add new column weight\n",
    "'''\n",
    "60kg for Anna, 75kg for Adrian/David, 0 for things\n",
    "Then 6 for FOB, 0.2 for FOL (Bag and Blackroll)\n",
    "'''\n",
    "df_geophone.insert(4, 'weight', df_geophone['person'].map({'AW': 60, 'AD': 75, '0': 0}))\n",
    "df_geophone['weight'] = df_geophone.apply(lambda row:\n",
    "                                          6 if row['activity'] == 'FOB' \n",
    "                                          else (0.2 if row['activity'] == 'FOL' \n",
    "                                                else row['weight']), axis=1)"
   ]
  },
  {
   "cell_type": "code",
   "execution_count": 16,
   "metadata": {},
   "outputs": [],
   "source": [
    "df_geophone.to_csv(\"merged_geophone_falls.csv\", index=False)"
   ]
  }
 ],
 "metadata": {
  "kernelspec": {
   "display_name": "venv",
   "language": "python",
   "name": "python3"
  },
  "language_info": {
   "codemirror_mode": {
    "name": "ipython",
    "version": 3
   },
   "file_extension": ".py",
   "mimetype": "text/x-python",
   "name": "python",
   "nbconvert_exporter": "python",
   "pygments_lexer": "ipython3",
   "version": "3.12.3"
  }
 },
 "nbformat": 4,
 "nbformat_minor": 2
}
